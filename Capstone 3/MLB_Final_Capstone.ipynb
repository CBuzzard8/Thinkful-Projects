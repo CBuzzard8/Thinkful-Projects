{
  "nbformat": 4,
  "nbformat_minor": 0,
  "metadata": {
    "colab": {
      "name": "MLB Final Capstone",
      "provenance": [],
      "collapsed_sections": []
    },
    "kernelspec": {
      "name": "python3",
      "display_name": "Python 3"
    }
  },
  "cells": [
    {
      "cell_type": "markdown",
      "metadata": {
        "id": "AmgRpr7bFM4f"
      },
      "source": [
        "# Let's Increase Wins and Make the Playoffs\n",
        "\n",
        "---\n",
        "\n",
        "\n",
        "Baseball organizations are always looking for the edge to win. Some teams are able to spend more money on talented players, while others need to be creative and piece together a team that potentially can win. Using data to make baseball decisions has come to the forefront over the past 20 years and is known as “moneyball.” Using the [Teams.csv](https://drive.google.com/file/d/1Xxv4wKjFVOcQznbu8LHE8owRu4gDV1BA/view?usp=sharing) dataset from [seanlahman.com](http://www.seanlahman.com/baseball-archive/statistics/), I want to answer two important questions:\n",
        "\n",
        "> **How can baseball teams win more games?**\n",
        "\n",
        "> **How can baseball teams make the playoffs?**\n",
        "\n",
        "This data set has complete MLB team statistic by year. It is a team focused dataset that contains offensive, defensive, and pitching statistics.\n",
        "\n",
        "\n",
        "Baseball has changed over the year. For my research we are using \"modern era\" baseball from 1973 to present day and only using full 162 game seasons.\n",
        "\n",
        "---\n",
        "\n",
        "\n",
        "\n",
        "Two hypotheses:\n",
        "\n",
        "1. There is no significant difference in Wins based on OBP (On base %)\n",
        "\n",
        "  Ho: μ1-μ2=0\n",
        "\n",
        "  Ha: μ1-μ2≠0\n",
        "\n",
        "2. There is no significant difference in wins based on ERA (earned run avg.)\n",
        "\n",
        "  Ho: μ1-μ2=0\n",
        "\n",
        "  Ha: μ1-μ2≠0\n",
        "\n"
      ]
    },
    {
      "cell_type": "code",
      "metadata": {
        "colab": {
          "base_uri": "https://localhost:8080/"
        },
        "id": "nl0YhXsQRBy_",
        "outputId": "84708dd6-2998-44f2-9aea-421f0f4334f4"
      },
      "source": [
        "#connect to google drive\n",
        "from google.colab import drive\n",
        "drive.mount('/content/gdrive')"
      ],
      "execution_count": null,
      "outputs": [
        {
          "output_type": "stream",
          "text": [
            "Mounted at /content/gdrive\n"
          ],
          "name": "stdout"
        }
      ]
    },
    {
      "cell_type": "code",
      "metadata": {
        "id": "e_o0Q9QWjp9E"
      },
      "source": [
        ""
      ],
      "execution_count": null,
      "outputs": []
    },
    {
      "cell_type": "code",
      "metadata": {
        "id": "tuh3YCB2Vp0d"
      },
      "source": [
        "#import libraries\n",
        "import pandas as pd\n",
        "from scipy import stats\n",
        "import seaborn as sns\n",
        "sns.set()\n",
        "import matplotlib.pyplot as plt\n",
        "\n",
        "import warnings\n",
        "warnings.filterwarnings(\"ignore\")\n",
        "\n",
        "df = pd.read_csv('/content/gdrive/My Drive/Thinkful/MLB_Team_Stats.csv')\n"
      ],
      "execution_count": null,
      "outputs": []
    },
    {
      "cell_type": "markdown",
      "metadata": {
        "id": "IpKfCx7fZJYU"
      },
      "source": [
        "Checking the data to ensure consitent filled cells. Will be using W, ERA, H, BB, AB, SF, and HBP."
      ]
    },
    {
      "cell_type": "code",
      "metadata": {
        "colab": {
          "base_uri": "https://localhost:8080/"
        },
        "id": "EkWVHPhSXmJj",
        "outputId": "0384841c-9ce3-4b3d-d7ea-a09ff7f0d84d"
      },
      "source": [
        "df.info()"
      ],
      "execution_count": null,
      "outputs": [
        {
          "output_type": "stream",
          "text": [
            "<class 'pandas.core.frame.DataFrame'>\n",
            "RangeIndex: 1230 entries, 0 to 1229\n",
            "Data columns (total 48 columns):\n",
            " #   Column          Non-Null Count  Dtype  \n",
            "---  ------          --------------  -----  \n",
            " 0   yearID          1230 non-null   int64  \n",
            " 1   lgID            1230 non-null   object \n",
            " 2   teamID          1230 non-null   object \n",
            " 3   franchID        1230 non-null   object \n",
            " 4   divID           1230 non-null   object \n",
            " 5   Rank            1230 non-null   int64  \n",
            " 6   G               1230 non-null   int64  \n",
            " 7   Ghome           1230 non-null   int64  \n",
            " 8   W               1230 non-null   int64  \n",
            " 9   L               1230 non-null   int64  \n",
            " 10  DivWin          1230 non-null   object \n",
            " 11  WCWin           716 non-null    object \n",
            " 12  LgWin           1230 non-null   object \n",
            " 13  WSWin           1230 non-null   object \n",
            " 14  R               1230 non-null   int64  \n",
            " 15  AB              1230 non-null   int64  \n",
            " 16  H               1230 non-null   int64  \n",
            " 17  2B              1230 non-null   int64  \n",
            " 18  3B              1230 non-null   int64  \n",
            " 19  HR              1230 non-null   int64  \n",
            " 20  BB              1230 non-null   int64  \n",
            " 21  SO              1230 non-null   int64  \n",
            " 22  SB              1230 non-null   int64  \n",
            " 23  CS              1230 non-null   int64  \n",
            " 24  HBP             1230 non-null   int64  \n",
            " 25  SF              1230 non-null   int64  \n",
            " 26  RA              1230 non-null   int64  \n",
            " 27  ER              1230 non-null   int64  \n",
            " 28  ERA             1230 non-null   float64\n",
            " 29  CG              1230 non-null   int64  \n",
            " 30  SHO             1230 non-null   int64  \n",
            " 31  SV              1230 non-null   int64  \n",
            " 32  IPouts          1230 non-null   int64  \n",
            " 33  HA              1230 non-null   int64  \n",
            " 34  HRA             1230 non-null   int64  \n",
            " 35  BBA             1230 non-null   int64  \n",
            " 36  SOA             1230 non-null   int64  \n",
            " 37  E               1230 non-null   int64  \n",
            " 38  DP              1230 non-null   int64  \n",
            " 39  FP              1230 non-null   float64\n",
            " 40  name            1230 non-null   object \n",
            " 41  park            1230 non-null   object \n",
            " 42  attendance      1230 non-null   int64  \n",
            " 43  BPF             1230 non-null   int64  \n",
            " 44  PPF             1230 non-null   int64  \n",
            " 45  teamIDBR        1230 non-null   object \n",
            " 46  teamIDlahman45  1230 non-null   object \n",
            " 47  teamIDretro     1230 non-null   object \n",
            "dtypes: float64(2), int64(33), object(13)\n",
            "memory usage: 461.4+ KB\n"
          ],
          "name": "stdout"
        }
      ]
    },
    {
      "cell_type": "markdown",
      "metadata": {
        "id": "BbAzw36-LZWj"
      },
      "source": [
        "# Calculating OBP\n",
        "On Base Percentage (OBP) is a key stat spoken about and one I want to test. OBP is not part of this data set. I added a column and calculate OBP. "
      ]
    },
    {
      "cell_type": "code",
      "metadata": {
        "colab": {
          "base_uri": "https://localhost:8080/"
        },
        "id": "0iUFekNT9lEf",
        "outputId": "691c410e-e0a7-4fb2-b6ba-53ad21d6ddb0"
      },
      "source": [
        "OBP_df = df.assign(OBP = (df.H + df.BB + df.HBP)/(df.AB + df.BB + df.HBP + df.SF))\n",
        "OBP_df.head"
      ],
      "execution_count": null,
      "outputs": [
        {
          "output_type": "execute_result",
          "data": {
            "text/plain": [
              "<bound method NDFrame.head of       yearID lgID teamID franchID  ... teamIDBR  teamIDlahman45  teamIDretro       OBP\n",
              "0       1973   NL    CHN      CHC  ...      CHC             CHN          CHN  0.319766\n",
              "1       1973   NL    NYN      NYM  ...      NYM             NYN          NYN  0.315059\n",
              "2       1973   NL    ATL      ATL  ...      ATL             ATL          ATL  0.338503\n",
              "3       1973   AL    BAL      BAL  ...      BAL             BAL          BAL  0.344910\n",
              "4       1973   AL    BOS      BOS  ...      BOS             BOS          BOS  0.337818\n",
              "...      ...  ...    ...      ...  ...      ...             ...          ...       ...\n",
              "1225    2019   NL    SLN      STL  ...      STL             SLN          SLN  0.322122\n",
              "1226    2019   AL    TBA      TBD  ...      TBR             TBA          TBA  0.325315\n",
              "1227    2019   AL    TEX      TEX  ...      TEX             TEX          TEX  0.319321\n",
              "1228    2019   AL    TOR      TOR  ...      TOR             TOR          TOR  0.305021\n",
              "1229    2019   NL    WAS      WSN  ...      WSN             MON          WAS  0.341695\n",
              "\n",
              "[1230 rows x 49 columns]>"
            ]
          },
          "metadata": {
            "tags": []
          },
          "execution_count": 4
        }
      ]
    },
    {
      "cell_type": "markdown",
      "metadata": {
        "id": "axGlZepHXte9"
      },
      "source": [
        "# Coorelations\n",
        "\n",
        "---\n",
        "\n",
        "\n",
        "Earned Run Average(ERA) and OBP correlation to Wins"
      ]
    },
    {
      "cell_type": "code",
      "metadata": {
        "colab": {
          "base_uri": "https://localhost:8080/",
          "height": 142
        },
        "id": "NENKRNe-Xsd9",
        "outputId": "1ef2a3b5-6379-417e-fa64-0119553968d2"
      },
      "source": [
        "OBP_df[['W', 'ERA', 'OBP']].corr()"
      ],
      "execution_count": null,
      "outputs": [
        {
          "output_type": "execute_result",
          "data": {
            "text/html": [
              "<div>\n",
              "<style scoped>\n",
              "    .dataframe tbody tr th:only-of-type {\n",
              "        vertical-align: middle;\n",
              "    }\n",
              "\n",
              "    .dataframe tbody tr th {\n",
              "        vertical-align: top;\n",
              "    }\n",
              "\n",
              "    .dataframe thead th {\n",
              "        text-align: right;\n",
              "    }\n",
              "</style>\n",
              "<table border=\"1\" class=\"dataframe\">\n",
              "  <thead>\n",
              "    <tr style=\"text-align: right;\">\n",
              "      <th></th>\n",
              "      <th>W</th>\n",
              "      <th>ERA</th>\n",
              "      <th>OBP</th>\n",
              "    </tr>\n",
              "  </thead>\n",
              "  <tbody>\n",
              "    <tr>\n",
              "      <th>W</th>\n",
              "      <td>1.000000</td>\n",
              "      <td>-0.554323</td>\n",
              "      <td>0.526951</td>\n",
              "    </tr>\n",
              "    <tr>\n",
              "      <th>ERA</th>\n",
              "      <td>-0.554323</td>\n",
              "      <td>1.000000</td>\n",
              "      <td>0.185316</td>\n",
              "    </tr>\n",
              "    <tr>\n",
              "      <th>OBP</th>\n",
              "      <td>0.526951</td>\n",
              "      <td>0.185316</td>\n",
              "      <td>1.000000</td>\n",
              "    </tr>\n",
              "  </tbody>\n",
              "</table>\n",
              "</div>"
            ],
            "text/plain": [
              "            W       ERA       OBP\n",
              "W    1.000000 -0.554323  0.526951\n",
              "ERA -0.554323  1.000000  0.185316\n",
              "OBP  0.526951  0.185316  1.000000"
            ]
          },
          "metadata": {
            "tags": []
          },
          "execution_count": 5
        }
      ]
    },
    {
      "cell_type": "markdown",
      "metadata": {
        "id": "IF7x7KdqcR87"
      },
      "source": [
        "The above correlation, you can see that there is a positive coorelation between Wins & OBP and a negative coorelation between Wins & ERA. That helps reject both null hypotheses. In baseball, the higher the OBP and the lower the ERA, the better."
      ]
    },
    {
      "cell_type": "markdown",
      "metadata": {
        "id": "Zz8Wk5wZdem0"
      },
      "source": [
        "# Pearson Test\n",
        "\n",
        "---\n",
        "\n",
        "\n",
        "**Wins and ERA**"
      ]
    },
    {
      "cell_type": "code",
      "metadata": {
        "colab": {
          "base_uri": "https://localhost:8080/"
        },
        "id": "mnjRmnwxkl4b",
        "outputId": "edea712b-bf84-4ff5-fc28-4bea706ec711"
      },
      "source": [
        "stats.pearsonr(OBP_df['W'], OBP_df['ERA'])"
      ],
      "execution_count": null,
      "outputs": [
        {
          "output_type": "execute_result",
          "data": {
            "text/plain": [
              "(-0.5543230753398346, 5.217028930167146e-100)"
            ]
          },
          "metadata": {
            "tags": []
          },
          "execution_count": 6
        }
      ]
    },
    {
      "cell_type": "markdown",
      "metadata": {
        "id": "GdLGfa7qeI-m"
      },
      "source": [
        "with a p-value < .001, you can see that there is a significant relationship. We will go more into detail to compare ERA with high and low win teams."
      ]
    },
    {
      "cell_type": "markdown",
      "metadata": {
        "id": "cK5qVQvffcFR"
      },
      "source": [
        "**Wins and OBP**"
      ]
    },
    {
      "cell_type": "code",
      "metadata": {
        "colab": {
          "base_uri": "https://localhost:8080/"
        },
        "id": "-1-HOA2iI1oU",
        "outputId": "c49503d6-1f09-4ce3-dafd-065c789d818f"
      },
      "source": [
        "stats.pearsonr(OBP_df['W'], OBP_df['OBP'])"
      ],
      "execution_count": null,
      "outputs": [
        {
          "output_type": "execute_result",
          "data": {
            "text/plain": [
              "(0.5269510268737766, 7.861998676962277e-89)"
            ]
          },
          "metadata": {
            "tags": []
          },
          "execution_count": 7
        }
      ]
    },
    {
      "cell_type": "markdown",
      "metadata": {
        "id": "7G4NrqJ4fr1c"
      },
      "source": [
        "with a p-value < .001, you can see that there is a significant relationship. We will go more into detail to compare OBP with high and low win teams."
      ]
    },
    {
      "cell_type": "markdown",
      "metadata": {
        "id": "NEmNoAsBgHCH"
      },
      "source": [
        "# High vs Low Win Teams\n",
        "\n",
        "---\n",
        "With a 162 game season, I want to test the OBP and ERA of teams with more and less than the median of 81 wins.\n"
      ]
    },
    {
      "cell_type": "markdown",
      "metadata": {
        "id": "5Vl8FMs1gaFr"
      },
      "source": [
        "Create a new dataframe that only includes teams that **won < 81 games** in a season."
      ]
    },
    {
      "cell_type": "code",
      "metadata": {
        "colab": {
          "base_uri": "https://localhost:8080/"
        },
        "id": "yFeibBWqlUvA",
        "outputId": "3e554f95-b2b3-432b-a467-c42951e34bb3"
      },
      "source": [
        "under_81_wins = OBP_df.iloc[(OBP_df['W'] < 81).values]\n",
        "under_81_wins.head"
      ],
      "execution_count": null,
      "outputs": [
        {
          "output_type": "execute_result",
          "data": {
            "text/plain": [
              "<bound method NDFrame.head of       yearID lgID teamID franchID  ... teamIDBR  teamIDlahman45  teamIDretro       OBP\n",
              "0       1973   NL    CHN      CHC  ...      CHC             CHN          CHN  0.319766\n",
              "2       1973   NL    ATL      ATL  ...      ATL             ATL          ATL  0.338503\n",
              "5       1973   AL    CAL      ANA  ...      CAL             CAL          CAL  0.318070\n",
              "6       1973   AL    CHA      CHW  ...      CHW             CHA          CHA  0.323529\n",
              "8       1973   AL    CLE      CLE  ...      CLE             CLE          CLE  0.314761\n",
              "...      ...  ...    ...      ...  ...      ...             ...          ...       ...\n",
              "1222    2019   NL    SDN      SDP  ...      SDP             SDN          SDN  0.307641\n",
              "1223    2019   AL    SEA      SEA  ...      SEA             SEA          SEA  0.315543\n",
              "1224    2019   NL    SFN      SFG  ...      SFG             SFN          SFN  0.302148\n",
              "1227    2019   AL    TEX      TEX  ...      TEX             TEX          TEX  0.319321\n",
              "1228    2019   AL    TOR      TOR  ...      TOR             TOR          TOR  0.305021\n",
              "\n",
              "[592 rows x 49 columns]>"
            ]
          },
          "metadata": {
            "tags": []
          },
          "execution_count": 8
        }
      ]
    },
    {
      "cell_type": "markdown",
      "metadata": {
        "id": "z5X9lqw_g0Ah"
      },
      "source": [
        "*Find and visualize the mean and range of the data*"
      ]
    },
    {
      "cell_type": "code",
      "metadata": {
        "colab": {
          "base_uri": "https://localhost:8080/",
          "height": 297
        },
        "id": "6ENGSC5Hmwq9",
        "outputId": "7adb0e2b-06df-455c-e199-ca6e62c474b8"
      },
      "source": [
        "under_81_wins[['W', 'ERA', 'OBP']].describe()"
      ],
      "execution_count": null,
      "outputs": [
        {
          "output_type": "execute_result",
          "data": {
            "text/html": [
              "<div>\n",
              "<style scoped>\n",
              "    .dataframe tbody tr th:only-of-type {\n",
              "        vertical-align: middle;\n",
              "    }\n",
              "\n",
              "    .dataframe tbody tr th {\n",
              "        vertical-align: top;\n",
              "    }\n",
              "\n",
              "    .dataframe thead th {\n",
              "        text-align: right;\n",
              "    }\n",
              "</style>\n",
              "<table border=\"1\" class=\"dataframe\">\n",
              "  <thead>\n",
              "    <tr style=\"text-align: right;\">\n",
              "      <th></th>\n",
              "      <th>W</th>\n",
              "      <th>ERA</th>\n",
              "      <th>OBP</th>\n",
              "    </tr>\n",
              "  </thead>\n",
              "  <tbody>\n",
              "    <tr>\n",
              "      <th>count</th>\n",
              "      <td>592.000000</td>\n",
              "      <td>592.000000</td>\n",
              "      <td>592.000000</td>\n",
              "    </tr>\n",
              "    <tr>\n",
              "      <th>mean</th>\n",
              "      <td>71.177365</td>\n",
              "      <td>4.382061</td>\n",
              "      <td>0.321177</td>\n",
              "    </tr>\n",
              "    <tr>\n",
              "      <th>std</th>\n",
              "      <td>6.633808</td>\n",
              "      <td>0.522532</td>\n",
              "      <td>0.012347</td>\n",
              "    </tr>\n",
              "    <tr>\n",
              "      <th>min</th>\n",
              "      <td>43.000000</td>\n",
              "      <td>2.950000</td>\n",
              "      <td>0.291364</td>\n",
              "    </tr>\n",
              "    <tr>\n",
              "      <th>25%</th>\n",
              "      <td>67.000000</td>\n",
              "      <td>4.007500</td>\n",
              "      <td>0.312765</td>\n",
              "    </tr>\n",
              "    <tr>\n",
              "      <th>50%</th>\n",
              "      <td>72.000000</td>\n",
              "      <td>4.365000</td>\n",
              "      <td>0.320652</td>\n",
              "    </tr>\n",
              "    <tr>\n",
              "      <th>75%</th>\n",
              "      <td>76.000000</td>\n",
              "      <td>4.742500</td>\n",
              "      <td>0.328946</td>\n",
              "    </tr>\n",
              "    <tr>\n",
              "      <th>max</th>\n",
              "      <td>80.000000</td>\n",
              "      <td>6.380000</td>\n",
              "      <td>0.360576</td>\n",
              "    </tr>\n",
              "  </tbody>\n",
              "</table>\n",
              "</div>"
            ],
            "text/plain": [
              "                W         ERA         OBP\n",
              "count  592.000000  592.000000  592.000000\n",
              "mean    71.177365    4.382061    0.321177\n",
              "std      6.633808    0.522532    0.012347\n",
              "min     43.000000    2.950000    0.291364\n",
              "25%     67.000000    4.007500    0.312765\n",
              "50%     72.000000    4.365000    0.320652\n",
              "75%     76.000000    4.742500    0.328946\n",
              "max     80.000000    6.380000    0.360576"
            ]
          },
          "metadata": {
            "tags": []
          },
          "execution_count": 9
        }
      ]
    },
    {
      "cell_type": "code",
      "metadata": {
        "colab": {
          "base_uri": "https://localhost:8080/",
          "height": 285
        },
        "id": "w6Tlqj6SqeDF",
        "outputId": "b975d647-ec1c-434f-ef6d-e686380f2c38"
      },
      "source": [
        "ax = sns.distplot(under_81_wins['ERA'])"
      ],
      "execution_count": null,
      "outputs": [
        {
          "output_type": "display_data",
          "data": {
            "image/png": "[encoded data removed]",
            "text/plain": [
              "<Figure size 432x288 with 1 Axes>"
            ]
          },
          "metadata": {
            "tags": []
          }
        }
      ]
    },
    {
      "cell_type": "code",
      "metadata": {
        "colab": {
          "base_uri": "https://localhost:8080/",
          "height": 288
        },
        "id": "Wei3OI0krOhA",
        "outputId": "704672fe-c320-43b8-95da-0ff6f8c5debd"
      },
      "source": [
        "ax = sns.distplot(under_81_wins['OBP'])"
      ],
      "execution_count": null,
      "outputs": [
        {
          "output_type": "display_data",
          "data": {
            "image/png": "[encoded data removed]",
            "text/plain": [
              "<Figure size 432x288 with 1 Axes>"
            ]
          },
          "metadata": {
            "tags": []
          }
        }
      ]
    },
    {
      "cell_type": "markdown",
      "metadata": {
        "id": "DNsszudAguOO"
      },
      "source": [
        "Create a new dataframe that only includes teams that **won > 81 games** in a season."
      ]
    },
    {
      "cell_type": "code",
      "metadata": {
        "colab": {
          "base_uri": "https://localhost:8080/"
        },
        "id": "NAWdWM9-mHqC",
        "outputId": "50abe900-c583-4e1b-a937-0b0735d05fe4"
      },
      "source": [
        "over_81_wins = OBP_df.iloc[(OBP_df['W'] > 81).values]\n",
        "over_81_wins.head"
      ],
      "execution_count": null,
      "outputs": [
        {
          "output_type": "execute_result",
          "data": {
            "text/plain": [
              "<bound method NDFrame.head of       yearID lgID teamID franchID  ... teamIDBR  teamIDlahman45  teamIDretro       OBP\n",
              "1       1973   NL    NYN      NYM  ...      NYM             NYN          NYN  0.315059\n",
              "3       1973   AL    BAL      BAL  ...      BAL             BAL          BAL  0.344910\n",
              "4       1973   AL    BOS      BOS  ...      BOS             BOS          BOS  0.337818\n",
              "7       1973   NL    CIN      CIN  ...      CIN             CIN          CIN  0.332155\n",
              "9       1973   AL    DET      DET  ...      DET             DET          DET  0.320026\n",
              "...      ...  ...    ...      ...  ...      ...             ...          ...       ...\n",
              "1218    2019   NL    NYN      NYM  ...      NYM             NYN          NYN  0.328330\n",
              "1219    2019   AL    OAK      OAK  ...      OAK             OAK          OAK  0.327212\n",
              "1225    2019   NL    SLN      STL  ...      STL             SLN          SLN  0.322122\n",
              "1226    2019   AL    TBA      TBD  ...      TBR             TBA          TBA  0.325315\n",
              "1229    2019   NL    WAS      WSN  ...      WSN             MON          WAS  0.341695\n",
              "\n",
              "[602 rows x 49 columns]>"
            ]
          },
          "metadata": {
            "tags": []
          },
          "execution_count": 12
        }
      ]
    },
    {
      "cell_type": "markdown",
      "metadata": {
        "id": "jI58x6hFhcCJ"
      },
      "source": [
        "*Find and visualize the mean and range of the data*"
      ]
    },
    {
      "cell_type": "code",
      "metadata": {
        "colab": {
          "base_uri": "https://localhost:8080/",
          "height": 297
        },
        "id": "LFrjmlYunKtf",
        "outputId": "ed8e5115-72b9-45e7-dde6-46f02450d68d"
      },
      "source": [
        "over_81_wins[['W', 'ERA', 'OBP']].describe()"
      ],
      "execution_count": null,
      "outputs": [
        {
          "output_type": "execute_result",
          "data": {
            "text/html": [
              "<div>\n",
              "<style scoped>\n",
              "    .dataframe tbody tr th:only-of-type {\n",
              "        vertical-align: middle;\n",
              "    }\n",
              "\n",
              "    .dataframe tbody tr th {\n",
              "        vertical-align: top;\n",
              "    }\n",
              "\n",
              "    .dataframe thead th {\n",
              "        text-align: right;\n",
              "    }\n",
              "</style>\n",
              "<table border=\"1\" class=\"dataframe\">\n",
              "  <thead>\n",
              "    <tr style=\"text-align: right;\">\n",
              "      <th></th>\n",
              "      <th>W</th>\n",
              "      <th>ERA</th>\n",
              "      <th>OBP</th>\n",
              "    </tr>\n",
              "  </thead>\n",
              "  <tbody>\n",
              "    <tr>\n",
              "      <th>count</th>\n",
              "      <td>602.000000</td>\n",
              "      <td>602.000000</td>\n",
              "      <td>602.000000</td>\n",
              "    </tr>\n",
              "    <tr>\n",
              "      <th>mean</th>\n",
              "      <td>90.504983</td>\n",
              "      <td>3.850365</td>\n",
              "      <td>0.333447</td>\n",
              "    </tr>\n",
              "    <tr>\n",
              "      <th>std</th>\n",
              "      <td>5.997571</td>\n",
              "      <td>0.452546</td>\n",
              "      <td>0.012960</td>\n",
              "    </tr>\n",
              "    <tr>\n",
              "      <th>min</th>\n",
              "      <td>82.000000</td>\n",
              "      <td>2.910000</td>\n",
              "      <td>0.300337</td>\n",
              "    </tr>\n",
              "    <tr>\n",
              "      <th>25%</th>\n",
              "      <td>86.000000</td>\n",
              "      <td>3.540000</td>\n",
              "      <td>0.324173</td>\n",
              "    </tr>\n",
              "    <tr>\n",
              "      <th>50%</th>\n",
              "      <td>90.000000</td>\n",
              "      <td>3.810000</td>\n",
              "      <td>0.332693</td>\n",
              "    </tr>\n",
              "    <tr>\n",
              "      <th>75%</th>\n",
              "      <td>95.000000</td>\n",
              "      <td>4.140000</td>\n",
              "      <td>0.341419</td>\n",
              "    </tr>\n",
              "    <tr>\n",
              "      <th>max</th>\n",
              "      <td>116.000000</td>\n",
              "      <td>5.590000</td>\n",
              "      <td>0.373442</td>\n",
              "    </tr>\n",
              "  </tbody>\n",
              "</table>\n",
              "</div>"
            ],
            "text/plain": [
              "                W         ERA         OBP\n",
              "count  602.000000  602.000000  602.000000\n",
              "mean    90.504983    3.850365    0.333447\n",
              "std      5.997571    0.452546    0.012960\n",
              "min     82.000000    2.910000    0.300337\n",
              "25%     86.000000    3.540000    0.324173\n",
              "50%     90.000000    3.810000    0.332693\n",
              "75%     95.000000    4.140000    0.341419\n",
              "max    116.000000    5.590000    0.373442"
            ]
          },
          "metadata": {
            "tags": []
          },
          "execution_count": 13
        }
      ]
    },
    {
      "cell_type": "code",
      "metadata": {
        "colab": {
          "base_uri": "https://localhost:8080/",
          "height": 288
        },
        "id": "H-adlyqOrgp-",
        "outputId": "f950d3de-af79-404f-fa6b-4538de000755"
      },
      "source": [
        "ax = sns.distplot(over_81_wins['ERA'])"
      ],
      "execution_count": null,
      "outputs": [
        {
          "output_type": "display_data",
          "data": {
            "image/png": "[encoded data removed]",
            "text/plain": [
              "<Figure size 432x288 with 1 Axes>"
            ]
          },
          "metadata": {
            "tags": []
          }
        }
      ]
    },
    {
      "cell_type": "code",
      "metadata": {
        "colab": {
          "base_uri": "https://localhost:8080/",
          "height": 285
        },
        "id": "9-GHmheFrpo1",
        "outputId": "275d916c-4964-4886-c026-b4703c61a817"
      },
      "source": [
        "ax = sns.distplot(over_81_wins['OBP'])"
      ],
      "execution_count": null,
      "outputs": [
        {
          "output_type": "display_data",
          "data": {
            "image/png": "[encoded data removed]",
            "text/plain": [
              "<Figure size 432x288 with 1 Axes>"
            ]
          },
          "metadata": {
            "tags": []
          }
        }
      ]
    },
    {
      "cell_type": "markdown",
      "metadata": {
        "id": "CmnPDn8Ehrar"
      },
      "source": [
        "# T-Tests\n",
        "\n",
        "---\n",
        "We already know that there is a relationship between ERA & Wins and OBP & Wins. Here we test the relationships between those teams with < 81  wins and those with > 81 wins."
      ]
    },
    {
      "cell_type": "markdown",
      "metadata": {
        "id": "7Sfo8qxNiPPM"
      },
      "source": [
        "**ERA**"
      ]
    },
    {
      "cell_type": "code",
      "metadata": {
        "colab": {
          "base_uri": "https://localhost:8080/"
        },
        "id": "VGgQGOFcmVjf",
        "outputId": "f066b696-99d7-4ca2-d2ff-ad5e06fcf872"
      },
      "source": [
        "stats.ttest_ind(under_81_wins['ERA'], over_81_wins['ERA'])"
      ],
      "execution_count": null,
      "outputs": [
        {
          "output_type": "execute_result",
          "data": {
            "text/plain": [
              "Ttest_indResult(statistic=18.804210969205506, pvalue=2.7658837816782715e-69)"
            ]
          },
          "metadata": {
            "tags": []
          },
          "execution_count": 16
        }
      ]
    },
    {
      "cell_type": "markdown",
      "metadata": {
        "id": "xU_KArgEiWsB"
      },
      "source": [
        "With a **p-value of < .001**, we can reject the null hypothesis. There is a significant difference in ERA when comparing teams with more and less wins."
      ]
    },
    {
      "cell_type": "markdown",
      "metadata": {
        "id": "xjpS26xquQyD"
      },
      "source": [
        "> *plot of ERA for under 81 wins*"
      ]
    },
    {
      "cell_type": "code",
      "metadata": {
        "colab": {
          "base_uri": "https://localhost:8080/",
          "height": 266
        },
        "id": "3A5bcb-jsewG",
        "outputId": "fd1c1387-b28d-4fb3-f758-3d29eeae5317"
      },
      "source": [
        "sns.boxplot(y=\"ERA\", data=under_81_wins)"
      ],
      "execution_count": null,
      "outputs": [
        {
          "output_type": "execute_result",
          "data": {
            "text/plain": [
              "<matplotlib.axes._subplots.AxesSubplot at 0x7fe6d452a990>"
            ]
          },
          "metadata": {
            "tags": []
          },
          "execution_count": 17
        },
        {
          "output_type": "display_data",
          "data": {
            "image/png": "[encoded data removed]",
            "text/plain": [
              "<Figure size 432x288 with 1 Axes>"
            ]
          },
          "metadata": {
            "tags": []
          }
        }
      ]
    },
    {
      "cell_type": "markdown",
      "metadata": {
        "id": "2LRsnomeujGS"
      },
      "source": [
        "> *plot of ERA for over 81 wins*"
      ]
    },
    {
      "cell_type": "code",
      "metadata": {
        "colab": {
          "base_uri": "https://localhost:8080/",
          "height": 265
        },
        "id": "RirZ0w6btM68",
        "outputId": "ccc19282-3113-4118-9567-1ab25565779e"
      },
      "source": [
        "sns.boxplot(y=\"ERA\", data=over_81_wins)"
      ],
      "execution_count": null,
      "outputs": [
        {
          "output_type": "execute_result",
          "data": {
            "text/plain": [
              "<matplotlib.axes._subplots.AxesSubplot at 0x7fe6d435abd0>"
            ]
          },
          "metadata": {
            "tags": []
          },
          "execution_count": 18
        },
        {
          "output_type": "display_data",
          "data": {
            "image/png": "[encoded data removed]",
            "text/plain": [
              "<Figure size 432x288 with 1 Axes>"
            ]
          },
          "metadata": {
            "tags": []
          }
        }
      ]
    },
    {
      "cell_type": "markdown",
      "metadata": {
        "id": "g1IIGp8ltaQP"
      },
      "source": [
        "You can see the difference with teams with more than 81 wins have an Inter Qualrtile Range mostly below 4 and teams that have less than 81 wins have an Inter Quartile Range above 4."
      ]
    },
    {
      "cell_type": "markdown",
      "metadata": {
        "id": "iidzupN7itlY"
      },
      "source": [
        "**OBP**"
      ]
    },
    {
      "cell_type": "code",
      "metadata": {
        "colab": {
          "base_uri": "https://localhost:8080/"
        },
        "id": "2yF2Ol0omkuA",
        "outputId": "f40efc8d-92ff-4ace-fce9-2a3a85736f71"
      },
      "source": [
        "stats.ttest_ind(under_81_wins['OBP'], over_81_wins['OBP'])"
      ],
      "execution_count": null,
      "outputs": [
        {
          "output_type": "execute_result",
          "data": {
            "text/plain": [
              "Ttest_indResult(statistic=-16.745743229164287, pvalue=1.0865623944312172e-56)"
            ]
          },
          "metadata": {
            "tags": []
          },
          "execution_count": 19
        }
      ]
    },
    {
      "cell_type": "markdown",
      "metadata": {
        "id": "QzMfVIgiiwEP"
      },
      "source": [
        "With a **p-value of < .001**, we can reject the null hypothesis. There is a significant difference in OBP when comparing teams with more and less wins."
      ]
    },
    {
      "cell_type": "markdown",
      "metadata": {
        "id": "wBDaqqyMu66s"
      },
      "source": [
        "> *plot of OBP for under 81 wins*"
      ]
    },
    {
      "cell_type": "code",
      "metadata": {
        "colab": {
          "base_uri": "https://localhost:8080/",
          "height": 265
        },
        "id": "UoPjkrFCuIuV",
        "outputId": "e6856619-2c1d-4500-a725-e43fc091b8a2"
      },
      "source": [
        "sns.boxplot(y=\"OBP\", data=under_81_wins)"
      ],
      "execution_count": null,
      "outputs": [
        {
          "output_type": "execute_result",
          "data": {
            "text/plain": [
              "<matplotlib.axes._subplots.AxesSubplot at 0x7fe6d42bfb90>"
            ]
          },
          "metadata": {
            "tags": []
          },
          "execution_count": 20
        },
        {
          "output_type": "display_data",
          "data": {
            "image/png": "[encoded data removed]",
            "text/plain": [
              "<Figure size 432x288 with 1 Axes>"
            ]
          },
          "metadata": {
            "tags": []
          }
        }
      ]
    },
    {
      "cell_type": "markdown",
      "metadata": {
        "id": "e4aJ0BpDvC9u"
      },
      "source": [
        "> *plot of OBP for over 81 wins*"
      ]
    },
    {
      "cell_type": "code",
      "metadata": {
        "colab": {
          "base_uri": "https://localhost:8080/",
          "height": 265
        },
        "id": "1d0zluAfuqUn",
        "outputId": "5e729797-2bfa-42a6-81df-00cccc929596"
      },
      "source": [
        "sns.boxplot(y=\"OBP\", data=over_81_wins)"
      ],
      "execution_count": null,
      "outputs": [
        {
          "output_type": "execute_result",
          "data": {
            "text/plain": [
              "<matplotlib.axes._subplots.AxesSubplot at 0x7fe6d40b8410>"
            ]
          },
          "metadata": {
            "tags": []
          },
          "execution_count": 28
        },
        {
          "output_type": "display_data",
          "data": {
            "image/png": "[encoded data removed]",
            "text/plain": [
              "<Figure size 432x288 with 1 Axes>"
            ]
          },
          "metadata": {
            "tags": []
          }
        }
      ]
    },
    {
      "cell_type": "markdown",
      "metadata": {
        "id": "nbrrvlLqvMs9"
      },
      "source": [
        "You can see the difference with teams with more than 81 wins have an Inter Qualrtile Range form .325 to .34 and teams that have less than 81 wins have an Inter Quartile Range from .315 to .33."
      ]
    },
    {
      "cell_type": "markdown",
      "metadata": {
        "id": "PhrxYtXEi6rz"
      },
      "source": [
        "**T-Test Findings**\n",
        "\n",
        "Based on the two t-tests, both ERA and OBP have an impact on Wins. To increase your teams chances to win the most games over an entire season, increase the team's OBP and decrease the team's ERA."
      ]
    },
    {
      "cell_type": "markdown",
      "metadata": {
        "id": "-TWjGw8xjmLG"
      },
      "source": [
        "# Playoff Team Benchmarks\n",
        "\n",
        "---\n",
        "Increasing Wins is always a goal, but the ultimate goal is to make the playoffs. Let's find out what your target number of Wins should be in order to compete for a coveted playoff spot.\n"
      ]
    },
    {
      "cell_type": "markdown",
      "metadata": {
        "id": "dplUQd0Mj-is"
      },
      "source": [
        "Each season, the top ranked teams from each division have an automatic spot in the playoffs. This data set lists the ranks of each team in the \"Rank\" field. I created a new dataframe that only incudes the top ranked teams each season in order to create our targets. "
      ]
    },
    {
      "cell_type": "code",
      "metadata": {
        "colab": {
          "base_uri": "https://localhost:8080/",
          "height": 377
        },
        "id": "BphIwPKJASu_",
        "outputId": "358af630-e86e-4a6d-cf1a-a9e372bdd68f"
      },
      "source": [
        "Top_teams = OBP_df.iloc[(OBP_df['Rank'] == 1).values]\n",
        "Top_teams.tail()"
      ],
      "execution_count": null,
      "outputs": [
        {
          "output_type": "execute_result",
          "data": {
            "text/html": [
              "<div>\n",
              "<style scoped>\n",
              "    .dataframe tbody tr th:only-of-type {\n",
              "        vertical-align: middle;\n",
              "    }\n",
              "\n",
              "    .dataframe tbody tr th {\n",
              "        vertical-align: top;\n",
              "    }\n",
              "\n",
              "    .dataframe thead th {\n",
              "        text-align: right;\n",
              "    }\n",
              "</style>\n",
              "<table border=\"1\" class=\"dataframe\">\n",
              "  <thead>\n",
              "    <tr style=\"text-align: right;\">\n",
              "      <th></th>\n",
              "      <th>yearID</th>\n",
              "      <th>lgID</th>\n",
              "      <th>teamID</th>\n",
              "      <th>franchID</th>\n",
              "      <th>divID</th>\n",
              "      <th>Rank</th>\n",
              "      <th>G</th>\n",
              "      <th>Ghome</th>\n",
              "      <th>W</th>\n",
              "      <th>L</th>\n",
              "      <th>DivWin</th>\n",
              "      <th>WCWin</th>\n",
              "      <th>LgWin</th>\n",
              "      <th>WSWin</th>\n",
              "      <th>R</th>\n",
              "      <th>AB</th>\n",
              "      <th>H</th>\n",
              "      <th>2B</th>\n",
              "      <th>3B</th>\n",
              "      <th>HR</th>\n",
              "      <th>BB</th>\n",
              "      <th>SO</th>\n",
              "      <th>SB</th>\n",
              "      <th>CS</th>\n",
              "      <th>HBP</th>\n",
              "      <th>SF</th>\n",
              "      <th>RA</th>\n",
              "      <th>ER</th>\n",
              "      <th>ERA</th>\n",
              "      <th>CG</th>\n",
              "      <th>SHO</th>\n",
              "      <th>SV</th>\n",
              "      <th>IPouts</th>\n",
              "      <th>HA</th>\n",
              "      <th>HRA</th>\n",
              "      <th>BBA</th>\n",
              "      <th>SOA</th>\n",
              "      <th>E</th>\n",
              "      <th>DP</th>\n",
              "      <th>FP</th>\n",
              "      <th>name</th>\n",
              "      <th>park</th>\n",
              "      <th>attendance</th>\n",
              "      <th>BPF</th>\n",
              "      <th>PPF</th>\n",
              "      <th>teamIDBR</th>\n",
              "      <th>teamIDlahman45</th>\n",
              "      <th>teamIDretro</th>\n",
              "      <th>OBP</th>\n",
              "    </tr>\n",
              "  </thead>\n",
              "  <tbody>\n",
              "    <tr>\n",
              "      <th>1210</th>\n",
              "      <td>2019</td>\n",
              "      <td>AL</td>\n",
              "      <td>HOU</td>\n",
              "      <td>HOU</td>\n",
              "      <td>W</td>\n",
              "      <td>1</td>\n",
              "      <td>162</td>\n",
              "      <td>81</td>\n",
              "      <td>107</td>\n",
              "      <td>55</td>\n",
              "      <td>Y</td>\n",
              "      <td>N</td>\n",
              "      <td>Y</td>\n",
              "      <td>N</td>\n",
              "      <td>920</td>\n",
              "      <td>5613</td>\n",
              "      <td>1538</td>\n",
              "      <td>323</td>\n",
              "      <td>28</td>\n",
              "      <td>288</td>\n",
              "      <td>645</td>\n",
              "      <td>1166</td>\n",
              "      <td>67</td>\n",
              "      <td>27</td>\n",
              "      <td>66</td>\n",
              "      <td>57</td>\n",
              "      <td>640</td>\n",
              "      <td>595</td>\n",
              "      <td>3.66</td>\n",
              "      <td>2</td>\n",
              "      <td>14</td>\n",
              "      <td>47</td>\n",
              "      <td>4387</td>\n",
              "      <td>1205</td>\n",
              "      <td>230</td>\n",
              "      <td>448</td>\n",
              "      <td>1671</td>\n",
              "      <td>71</td>\n",
              "      <td>96</td>\n",
              "      <td>0.988</td>\n",
              "      <td>Houston Astros</td>\n",
              "      <td>Minute Maid Park</td>\n",
              "      <td>2857367</td>\n",
              "      <td>103</td>\n",
              "      <td>100</td>\n",
              "      <td>HOU</td>\n",
              "      <td>HOU</td>\n",
              "      <td>HOU</td>\n",
              "      <td>0.352453</td>\n",
              "    </tr>\n",
              "    <tr>\n",
              "      <th>1213</th>\n",
              "      <td>2019</td>\n",
              "      <td>NL</td>\n",
              "      <td>LAN</td>\n",
              "      <td>LAD</td>\n",
              "      <td>W</td>\n",
              "      <td>1</td>\n",
              "      <td>162</td>\n",
              "      <td>81</td>\n",
              "      <td>106</td>\n",
              "      <td>56</td>\n",
              "      <td>Y</td>\n",
              "      <td>N</td>\n",
              "      <td>N</td>\n",
              "      <td>N</td>\n",
              "      <td>886</td>\n",
              "      <td>5493</td>\n",
              "      <td>1414</td>\n",
              "      <td>302</td>\n",
              "      <td>20</td>\n",
              "      <td>279</td>\n",
              "      <td>607</td>\n",
              "      <td>1356</td>\n",
              "      <td>57</td>\n",
              "      <td>10</td>\n",
              "      <td>81</td>\n",
              "      <td>45</td>\n",
              "      <td>613</td>\n",
              "      <td>541</td>\n",
              "      <td>3.37</td>\n",
              "      <td>3</td>\n",
              "      <td>18</td>\n",
              "      <td>44</td>\n",
              "      <td>4337</td>\n",
              "      <td>1201</td>\n",
              "      <td>185</td>\n",
              "      <td>392</td>\n",
              "      <td>1519</td>\n",
              "      <td>106</td>\n",
              "      <td>117</td>\n",
              "      <td>0.982</td>\n",
              "      <td>Los Angeles Dodgers</td>\n",
              "      <td>Dodger Stadium</td>\n",
              "      <td>3974309</td>\n",
              "      <td>96</td>\n",
              "      <td>94</td>\n",
              "      <td>LAD</td>\n",
              "      <td>LAN</td>\n",
              "      <td>LAN</td>\n",
              "      <td>0.337616</td>\n",
              "    </tr>\n",
              "    <tr>\n",
              "      <th>1216</th>\n",
              "      <td>2019</td>\n",
              "      <td>AL</td>\n",
              "      <td>MIN</td>\n",
              "      <td>MIN</td>\n",
              "      <td>C</td>\n",
              "      <td>1</td>\n",
              "      <td>162</td>\n",
              "      <td>81</td>\n",
              "      <td>101</td>\n",
              "      <td>61</td>\n",
              "      <td>Y</td>\n",
              "      <td>N</td>\n",
              "      <td>N</td>\n",
              "      <td>N</td>\n",
              "      <td>939</td>\n",
              "      <td>5732</td>\n",
              "      <td>1547</td>\n",
              "      <td>318</td>\n",
              "      <td>23</td>\n",
              "      <td>307</td>\n",
              "      <td>525</td>\n",
              "      <td>1334</td>\n",
              "      <td>28</td>\n",
              "      <td>21</td>\n",
              "      <td>81</td>\n",
              "      <td>41</td>\n",
              "      <td>754</td>\n",
              "      <td>680</td>\n",
              "      <td>4.18</td>\n",
              "      <td>1</td>\n",
              "      <td>10</td>\n",
              "      <td>50</td>\n",
              "      <td>4390</td>\n",
              "      <td>1456</td>\n",
              "      <td>198</td>\n",
              "      <td>452</td>\n",
              "      <td>1463</td>\n",
              "      <td>111</td>\n",
              "      <td>130</td>\n",
              "      <td>0.981</td>\n",
              "      <td>Minnesota Twins</td>\n",
              "      <td>Target Field</td>\n",
              "      <td>2294152</td>\n",
              "      <td>100</td>\n",
              "      <td>99</td>\n",
              "      <td>MIN</td>\n",
              "      <td>MIN</td>\n",
              "      <td>MIN</td>\n",
              "      <td>0.337514</td>\n",
              "    </tr>\n",
              "    <tr>\n",
              "      <th>1217</th>\n",
              "      <td>2019</td>\n",
              "      <td>AL</td>\n",
              "      <td>NYA</td>\n",
              "      <td>NYY</td>\n",
              "      <td>E</td>\n",
              "      <td>1</td>\n",
              "      <td>162</td>\n",
              "      <td>81</td>\n",
              "      <td>103</td>\n",
              "      <td>59</td>\n",
              "      <td>Y</td>\n",
              "      <td>N</td>\n",
              "      <td>N</td>\n",
              "      <td>N</td>\n",
              "      <td>943</td>\n",
              "      <td>5583</td>\n",
              "      <td>1493</td>\n",
              "      <td>290</td>\n",
              "      <td>17</td>\n",
              "      <td>306</td>\n",
              "      <td>569</td>\n",
              "      <td>1437</td>\n",
              "      <td>55</td>\n",
              "      <td>22</td>\n",
              "      <td>49</td>\n",
              "      <td>33</td>\n",
              "      <td>739</td>\n",
              "      <td>691</td>\n",
              "      <td>4.31</td>\n",
              "      <td>1</td>\n",
              "      <td>9</td>\n",
              "      <td>50</td>\n",
              "      <td>4329</td>\n",
              "      <td>1374</td>\n",
              "      <td>248</td>\n",
              "      <td>507</td>\n",
              "      <td>1534</td>\n",
              "      <td>102</td>\n",
              "      <td>135</td>\n",
              "      <td>0.982</td>\n",
              "      <td>New York Yankees</td>\n",
              "      <td>Yankee Stadium III</td>\n",
              "      <td>3304404</td>\n",
              "      <td>98</td>\n",
              "      <td>96</td>\n",
              "      <td>NYY</td>\n",
              "      <td>NYA</td>\n",
              "      <td>NYA</td>\n",
              "      <td>0.338627</td>\n",
              "    </tr>\n",
              "    <tr>\n",
              "      <th>1225</th>\n",
              "      <td>2019</td>\n",
              "      <td>NL</td>\n",
              "      <td>SLN</td>\n",
              "      <td>STL</td>\n",
              "      <td>C</td>\n",
              "      <td>1</td>\n",
              "      <td>162</td>\n",
              "      <td>81</td>\n",
              "      <td>91</td>\n",
              "      <td>71</td>\n",
              "      <td>Y</td>\n",
              "      <td>N</td>\n",
              "      <td>N</td>\n",
              "      <td>N</td>\n",
              "      <td>764</td>\n",
              "      <td>5449</td>\n",
              "      <td>1336</td>\n",
              "      <td>246</td>\n",
              "      <td>24</td>\n",
              "      <td>210</td>\n",
              "      <td>561</td>\n",
              "      <td>1420</td>\n",
              "      <td>116</td>\n",
              "      <td>29</td>\n",
              "      <td>76</td>\n",
              "      <td>39</td>\n",
              "      <td>662</td>\n",
              "      <td>609</td>\n",
              "      <td>3.80</td>\n",
              "      <td>1</td>\n",
              "      <td>14</td>\n",
              "      <td>52</td>\n",
              "      <td>4332</td>\n",
              "      <td>1284</td>\n",
              "      <td>191</td>\n",
              "      <td>545</td>\n",
              "      <td>1399</td>\n",
              "      <td>66</td>\n",
              "      <td>168</td>\n",
              "      <td>0.989</td>\n",
              "      <td>St. Louis Cardinals</td>\n",
              "      <td>Busch Stadium III</td>\n",
              "      <td>3480393</td>\n",
              "      <td>98</td>\n",
              "      <td>97</td>\n",
              "      <td>STL</td>\n",
              "      <td>SLN</td>\n",
              "      <td>SLN</td>\n",
              "      <td>0.322122</td>\n",
              "    </tr>\n",
              "  </tbody>\n",
              "</table>\n",
              "</div>"
            ],
            "text/plain": [
              "      yearID lgID teamID franchID  ... teamIDBR  teamIDlahman45  teamIDretro       OBP\n",
              "1210    2019   AL    HOU      HOU  ...      HOU             HOU          HOU  0.352453\n",
              "1213    2019   NL    LAN      LAD  ...      LAD             LAN          LAN  0.337616\n",
              "1216    2019   AL    MIN      MIN  ...      MIN             MIN          MIN  0.337514\n",
              "1217    2019   AL    NYA      NYY  ...      NYY             NYA          NYA  0.338627\n",
              "1225    2019   NL    SLN      STL  ...      STL             SLN          SLN  0.322122\n",
              "\n",
              "[5 rows x 49 columns]"
            ]
          },
          "metadata": {
            "tags": []
          },
          "execution_count": 22
        }
      ]
    },
    {
      "cell_type": "markdown",
      "metadata": {
        "id": "8fRw6pLrk2rF"
      },
      "source": [
        "*Here is the mean for Wins, ERA, and OBP of top ranked teams*\n",
        "\n"
      ]
    },
    {
      "cell_type": "code",
      "metadata": {
        "colab": {
          "base_uri": "https://localhost:8080/",
          "height": 297
        },
        "id": "ScUYFq6IAv8X",
        "outputId": "df1caf03-b65f-4310-a95c-b61309951be3"
      },
      "source": [
        "Top_teams[['W', 'ERA', 'OBP']].describe()"
      ],
      "execution_count": null,
      "outputs": [
        {
          "output_type": "execute_result",
          "data": {
            "text/html": [
              "<div>\n",
              "<style scoped>\n",
              "    .dataframe tbody tr th:only-of-type {\n",
              "        vertical-align: middle;\n",
              "    }\n",
              "\n",
              "    .dataframe tbody tr th {\n",
              "        vertical-align: top;\n",
              "    }\n",
              "\n",
              "    .dataframe thead th {\n",
              "        text-align: right;\n",
              "    }\n",
              "</style>\n",
              "<table border=\"1\" class=\"dataframe\">\n",
              "  <thead>\n",
              "    <tr style=\"text-align: right;\">\n",
              "      <th></th>\n",
              "      <th>W</th>\n",
              "      <th>ERA</th>\n",
              "      <th>OBP</th>\n",
              "    </tr>\n",
              "  </thead>\n",
              "  <tbody>\n",
              "    <tr>\n",
              "      <th>count</th>\n",
              "      <td>224.000000</td>\n",
              "      <td>224.000000</td>\n",
              "      <td>224.000000</td>\n",
              "    </tr>\n",
              "    <tr>\n",
              "      <th>mean</th>\n",
              "      <td>95.254464</td>\n",
              "      <td>3.743527</td>\n",
              "      <td>0.336686</td>\n",
              "    </tr>\n",
              "    <tr>\n",
              "      <th>std</th>\n",
              "      <td>5.483156</td>\n",
              "      <td>0.452367</td>\n",
              "      <td>0.012562</td>\n",
              "    </tr>\n",
              "    <tr>\n",
              "      <th>min</th>\n",
              "      <td>82.000000</td>\n",
              "      <td>2.910000</td>\n",
              "      <td>0.305042</td>\n",
              "    </tr>\n",
              "    <tr>\n",
              "      <th>25%</th>\n",
              "      <td>91.000000</td>\n",
              "      <td>3.410000</td>\n",
              "      <td>0.327672</td>\n",
              "    </tr>\n",
              "    <tr>\n",
              "      <th>50%</th>\n",
              "      <td>95.000000</td>\n",
              "      <td>3.720000</td>\n",
              "      <td>0.336137</td>\n",
              "    </tr>\n",
              "    <tr>\n",
              "      <th>75%</th>\n",
              "      <td>98.000000</td>\n",
              "      <td>4.010000</td>\n",
              "      <td>0.344573</td>\n",
              "    </tr>\n",
              "    <tr>\n",
              "      <th>max</th>\n",
              "      <td>116.000000</td>\n",
              "      <td>5.070000</td>\n",
              "      <td>0.373442</td>\n",
              "    </tr>\n",
              "  </tbody>\n",
              "</table>\n",
              "</div>"
            ],
            "text/plain": [
              "                W         ERA         OBP\n",
              "count  224.000000  224.000000  224.000000\n",
              "mean    95.254464    3.743527    0.336686\n",
              "std      5.483156    0.452367    0.012562\n",
              "min     82.000000    2.910000    0.305042\n",
              "25%     91.000000    3.410000    0.327672\n",
              "50%     95.000000    3.720000    0.336137\n",
              "75%     98.000000    4.010000    0.344573\n",
              "max    116.000000    5.070000    0.373442"
            ]
          },
          "metadata": {
            "tags": []
          },
          "execution_count": 23
        }
      ]
    },
    {
      "cell_type": "markdown",
      "metadata": {
        "id": "0AzNFEmfoFOe"
      },
      "source": [
        "# Findings and Recomendations\n",
        "\n",
        "---\n",
        "We have proven that raising your team's OBP and lowering ERA are factors to winning more games. In addition, we found our targets to accompplish our ultimate goal of making the playoffs.\n",
        "\n",
        "**Targets:**\n",
        "> Wins = 95\n",
        "\n",
        "> OBP = .337\n",
        "\n",
        "> ERA = 3.74\n",
        "\n",
        "When reevaluating and adjusting your roster throughout the year, aim to add and remove players inorder to hit the target OBP and ERA. This will ensure you have the best chance to reach the 95 win target and compete for a playoff spot each year.\n"
      ]
    },
    {
      "cell_type": "markdown",
      "metadata": {
        "id": "43NdCPXLxIoA"
      },
      "source": [
        "**Visualizing the findings:**\n",
        "\n",
        "You can see over the years, as OBP rises, Wins increase\n",
        "\n",
        "And the opposite is true for ERA. As it lowers, Wins increase."
      ]
    },
    {
      "cell_type": "code",
      "metadata": {
        "colab": {
          "base_uri": "https://localhost:8080/",
          "height": 302
        },
        "id": "qd-M3SOSwB6h",
        "outputId": "f213902a-0dcf-4fed-e810-759fd1a87111"
      },
      "source": [
        "sns.scatterplot(x=\"W\", y=\"OBP\", data=OBP_df)"
      ],
      "execution_count": null,
      "outputs": [
        {
          "output_type": "execute_result",
          "data": {
            "text/plain": [
              "<matplotlib.axes._subplots.AxesSubplot at 0x7fe6d44f0910>"
            ]
          },
          "metadata": {
            "tags": []
          },
          "execution_count": 24
        },
        {
          "output_type": "display_data",
          "data": {
            "image/png": "[encoded data removed]",
            "text/plain": [
              "<Figure size 432x288 with 1 Axes>"
            ]
          },
          "metadata": {
            "tags": []
          }
        }
      ]
    },
    {
      "cell_type": "code",
      "metadata": {
        "colab": {
          "base_uri": "https://localhost:8080/",
          "height": 303
        },
        "id": "aH5Xih0Bw7M8",
        "outputId": "cd67964c-d33d-4da7-ca05-73c4e65dd8cd"
      },
      "source": [
        "sns.scatterplot(x=\"W\", y=\"ERA\", data=OBP_df)"
      ],
      "execution_count": null,
      "outputs": [
        {
          "output_type": "execute_result",
          "data": {
            "text/plain": [
              "<matplotlib.axes._subplots.AxesSubplot at 0x7fe6d44b8bd0>"
            ]
          },
          "metadata": {
            "tags": []
          },
          "execution_count": 25
        },
        {
          "output_type": "display_data",
          "data": {
            "image/png": "[encoded data removed]",
            "text/plain": [
              "<Figure size 432x288 with 1 Axes>"
            ]
          },
          "metadata": {
            "tags": []
          }
        }
      ]
    },
    {
      "cell_type": "code",
      "metadata": {
        "colab": {
          "base_uri": "https://localhost:8080/",
          "height": 303
        },
        "id": "H1_anBDgyQ7A",
        "outputId": "0f7cc073-1612-4fe3-f3ca-068ab9d1f583"
      },
      "source": [
        "sns.lineplot(data=OBP_df, x=\"W\", y=\"ERA\")"
      ],
      "execution_count": null,
      "outputs": [
        {
          "output_type": "execute_result",
          "data": {
            "text/plain": [
              "<matplotlib.axes._subplots.AxesSubplot at 0x7fe6d4a89490>"
            ]
          },
          "metadata": {
            "tags": []
          },
          "execution_count": 26
        },
        {
          "output_type": "display_data",
          "data": {
            "image/png": "[encoded data removed]",
            "text/plain": [
              "<Figure size 432x288 with 1 Axes>"
            ]
          },
          "metadata": {
            "tags": []
          }
        }
      ]
    },
    {
      "cell_type": "code",
      "metadata": {
        "colab": {
          "base_uri": "https://localhost:8080/"
        },
        "id": "PBIR6iUZJkUD",
        "outputId": "47be8c17-42a0-4b51-92f6-f7b28a9cf75f"
      },
      "source": [
        "sample_1_n = under_81_wins.shape[0]\n",
        "sample_2_n = over_81_wins.shape[0]\n",
        "sample_1_mean = under_81_wins['ERA'].mean()\n",
        "sample_2_mean = over_81_wins['ERA'].mean()\n",
        "sample_1_var = under_81_wins['ERA'].var()\n",
        "sample_2_var = over_81_wins['ERA'].var()\n",
        "\n",
        "import math\n",
        "std_err_difference = math.sqrt((sample_1_var/sample_1_n)+(sample_2_var/sample_2_n))\n",
        "\n",
        "mean_difference = sample_2_mean - sample_1_mean\n",
        "\n",
        "margin_of_error = 1.96 * std_err_difference\n",
        "ci_lower = mean_difference - margin_of_error\n",
        "ci_upper = mean_difference + margin_of_error\n",
        "\n",
        "print(\"The difference in means at the 95% confidence interval is between \"+str(ci_lower)+\" and \"+str(ci_upper)+\".\")"
      ],
      "execution_count": null,
      "outputs": [
        {
          "output_type": "stream",
          "text": [
            "The difference in means at the 95% confidence interval is between -0.5871814010852452 and -0.4762093235264207.\n"
          ],
          "name": "stdout"
        }
      ]
    }
  ]
}